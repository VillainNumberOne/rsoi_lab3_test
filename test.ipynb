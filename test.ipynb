{
 "cells": [
  {
   "cell_type": "code",
   "execution_count": 1,
   "metadata": {},
   "outputs": [],
   "source": [
    "from circuitbreaker import circuit\n",
    "import requests\n",
    "from requests.adapters import HTTPAdapter\n",
    "from urllib3.util.retry import Retry"
   ]
  },
  {
   "cell_type": "code",
   "execution_count": 2,
   "metadata": {},
   "outputs": [],
   "source": [
    "import queue\n",
    "from threading import Thread\n",
    "import time"
   ]
  },
  {
   "cell_type": "code",
   "execution_count": 10,
   "metadata": {},
   "outputs": [],
   "source": [
    "class Queue:\n",
    "    def __init__(self, timeout=10):\n",
    "        self.timeout = timeout\n",
    "        self.services = [\"library_system\", \"rating_system\"]\n",
    "        self.queues = {\n",
    "            \"library_system\": queue.Queue(),\n",
    "            \"rating_system\": queue.Queue()\n",
    "        }\n",
    "\n",
    "    def put(self, system, method, *args, **kwargs):\n",
    "        assert system in self.services\n",
    "        self._put(system, method, time.time(), *args, **kwargs)\n",
    "        \n",
    "    def _put(self, system, method, initial_time, *args, **kwargs):\n",
    "        self.queues[system].put([initial_time, method, list(args), dict(kwargs)])\n",
    "\n",
    "    def join_all(self):\n",
    "        for q in self.queues.values():\n",
    "            q.join()\n",
    "\n",
    "    def system_queue(self, system):\n",
    "        t, method, args, kwargs = self.queues[system].get()\n",
    "        if time.time() - t < self.timeout:\n",
    "            print(\"\\nsystem:\", system, flush=True)\n",
    "            try:\n",
    "                status = method(*args, **kwargs).status_code\n",
    "            except requests.exceptions.ConnectionError:\n",
    "                print(\"\\nunable to connect, retrying...\", flush=True)\n",
    "                status = 404\n",
    "            except Exception:\n",
    "                status = 500\n",
    "                \n",
    "            if status == 404:\n",
    "                self._put(system, method, t, *args, **kwargs)\n",
    "        else:\n",
    "            print(\"Timeout reached\")\n",
    "\n",
    "        self.queues[system].task_done()\n",
    "        time.sleep(0.1)\n",
    "            \n",
    "\n",
    "    def library_system_queue(self):\n",
    "        while True:\n",
    "            self.system_queue(\"library_system\")\n",
    "\n",
    "    def rating_system_queue(self):\n",
    "        while True:\n",
    "            self.system_queue(\"rating_system\")"
   ]
  },
  {
   "cell_type": "code",
   "execution_count": 11,
   "metadata": {},
   "outputs": [],
   "source": [
    "q = Queue()\n",
    "Thread(target=q.library_system_queue, daemon=True).start()\n",
    "Thread(target=q.rating_system_queue, daemon=True).start()\n",
    "q.join_all()"
   ]
  },
  {
   "cell_type": "code",
   "execution_count": 12,
   "metadata": {},
   "outputs": [
    {
     "name": "stdout",
     "output_type": "stream",
     "text": [
      "\n",
      "unable to connect, retrying...\n",
      "\n",
      "unable to connect, retrying...\n",
      "\n",
      "unable to connect, retrying...\n",
      "Timeout reached\n"
     ]
    }
   ],
   "source": [
    "q.put(\"rating_system\", requests.get, \"http://localhost:8060/api/v1/something\", data=\"sss\")"
   ]
  }
 ],
 "metadata": {
  "kernelspec": {
   "display_name": "Python 3",
   "language": "python",
   "name": "python3"
  },
  "language_info": {
   "codemirror_mode": {
    "name": "ipython",
    "version": 3
   },
   "file_extension": ".py",
   "mimetype": "text/x-python",
   "name": "python",
   "nbconvert_exporter": "python",
   "pygments_lexer": "ipython3",
   "version": "3.9.1"
  },
  "orig_nbformat": 4,
  "vscode": {
   "interpreter": {
    "hash": "927dac595fd971fa9679342be0a4f853354c6408ed89ffe760c3ce9b26a49494"
   }
  }
 },
 "nbformat": 4,
 "nbformat_minor": 2
}
